{
 "cells": [
  {
   "cell_type": "code",
   "execution_count": 3,
   "metadata": {},
   "outputs": [
    {
     "name": "stdout",
     "output_type": "stream",
     "text": [
      "4\n",
      "73\n",
      "67\n",
      "38\n",
      "33\n",
      "75\n",
      "67\n",
      "40\n",
      "33\n"
     ]
    }
   ],
   "source": [
    "import os\n",
    "import sys\n",
    "def gradingStudents(grades):\n",
    "    for i in range(len(grades)):\n",
    "        m=grades[i]-grades[i]%5\n",
    "        if(grades[i]>=38):\n",
    "            if(m!=grades[i]):#done\n",
    "                m+=5\n",
    "                if((m-grades[i])<3):#done\n",
    "                    grades[i]=m\n",
    "    return grades\n",
    "            \n",
    "        \n",
    "        \n",
    "\n",
    "if __name__ == '__main__':\n",
    "    n = int(input())\n",
    "\n",
    "    grades = []\n",
    "\n",
    "    for _ in range(n):\n",
    "        grades_item = int(input())\n",
    "        grades.append(grades_item)\n",
    "\n",
    "    result = gradingStudents(grades)\n",
    "\n",
    "    print('\\n'.join(map(str, result)))\n",
    "   \n"
   ]
  },
  {
   "cell_type": "code",
   "execution_count": null,
   "metadata": {},
   "outputs": [],
   "source": []
  }
 ],
 "metadata": {
  "kernelspec": {
   "display_name": "Python 3",
   "language": "python",
   "name": "python3"
  },
  "language_info": {
   "codemirror_mode": {
    "name": "ipython",
    "version": 3
   },
   "file_extension": ".py",
   "mimetype": "text/x-python",
   "name": "python",
   "nbconvert_exporter": "python",
   "pygments_lexer": "ipython3",
   "version": "3.6.5"
  }
 },
 "nbformat": 4,
 "nbformat_minor": 2
}
